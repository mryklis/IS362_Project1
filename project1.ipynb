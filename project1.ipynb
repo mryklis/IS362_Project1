{
 "cells": [
  {
   "cell_type": "markdown",
   "metadata": {},
   "source": [
    "# Data Analysis Project"
   ]
  },
  {
   "cell_type": "markdown",
   "metadata": {},
   "source": [
    "For this project I took the arrivals data and created a mysql db called arrivals. I split the data into 2 tables; one for AMWEST and another for Alaska airlines.\n",
    "\n",
    "This was my first time working with Python and a db. it took some time to get the data out and turn it into a useable format. Prior to creating a Pandas Data Frame I stored the data in a dictionary. Keyed by airport, with arrival counts as values."
   ]
  },
  {
   "cell_type": "code",
   "execution_count": 1,
   "metadata": {
    "collapsed": false
   },
   "outputs": [
    {
     "name": "stdout",
     "output_type": "stream",
     "text": [
      "alaska {'SD_DELAYED': 20, 'PHX_ONTIME': 221, 'SF_DELAYED': 102, 'SD_ONTIME': 212, 'PHX_DELAYED': 12, 'LAX_ONTIME': 497, 'SF_ONTIME': 503, 'STL_DELAYED': 305, 'LAX_DELAYED': 62, 'STL_ONTIME': 1841}\n",
      "most on time: Value    1841\n",
      "dtype: int64,least on time: Value    212\n",
      "dtype: int64,most delayed: Value    305\n",
      "dtype: int64,least delayed: Value    12\n",
      "dtype: int64\n",
      "amwest {'SD_DELAYED': 65, 'PHX_ONTIME': 4840, 'SF_DELAYED': 129, 'SD_ONTIME': 383, 'PHX_DELAYED': 415, 'LAX_ONTIME': 694, 'SF_ONTIME': 320, 'STL_DELAYED': 61, 'LAX_DELAYED': 117, 'STL_ONTIME': 201}\n",
      "most on time: Value    4840\n",
      "dtype: int64,least on time: Value    201\n",
      "dtype: int64,most delayed: Value    415\n",
      "dtype: int64,least delayed: Value    61\n",
      "dtype: int64\n"
     ]
    }
   ],
   "source": [
    "import pandas as pd\n",
    "import pymysql\n",
    "\n",
    "\n",
    "db = pymysql.connect('localhost', '*****', '*****', 'arrivals')\n",
    "cursor = db.cursor()\n",
    "\n",
    "\n",
    "def get_tables(sql):\n",
    "    tables = cursor.execute(sql)\n",
    "    result = cursor.fetchall()\n",
    "    tables_l = []\n",
    "    for (table_name,) in result:\n",
    "        tables_l.append(table_name)\n",
    "    return tables_l\n",
    "\n",
    "def get_columns(sql):\n",
    "    columns = cursor.execute(sql)\n",
    "    result = cursor.fetchall()\n",
    "    column_list = []\n",
    "    for (column_name, type, set, some1, some2, some3) in result:\n",
    "        column_list.append(column_name)\n",
    "    return column_list\n",
    "\n",
    "def tbl_columns(columns1):\n",
    "    tbl_al = []\n",
    "    c_names = columns1\n",
    "    for i in c_names:\n",
    "        tbl_al.append(c_names)\n",
    "    return tbl_al\n",
    "\n",
    "def return_data(sql):\n",
    "    st = cursor.execute(sql)\n",
    "    result = cursor.fetchall()\n",
    "    data = []\n",
    "    for value in result:\n",
    "        data.append(value)\n",
    "    return data\n",
    "\n",
    "def tbl_data(tbl, data):\n",
    "    new_dict = dict(zip(tbl[0], data[0]))\n",
    "    return new_dict\n",
    "\n",
    "def p_df(data):\n",
    "    df = pd.DataFrame([[key, value] for key, value in data.items()], columns=[\"Airport\", \"Value\"])\n",
    "    on = df[df['Airport'].str.contains('ONTIME')]\n",
    "    val_cols = [c for c in on.columns if c.startswith('Val')]\n",
    "    max_on = on[val_cols].max()\n",
    "    min_on = on[val_cols].min()\n",
    "    delay = df[df['Airport'].str.contains('DELAYED')]\n",
    "    max_del = delay[val_cols].max()\n",
    "    min_del = delay[val_cols].min()\n",
    "    return max_on, min_on, max_del, min_del\n",
    "\n",
    "\n",
    "\n",
    "\n",
    "if __name__ == '__main__':\n",
    "    t_sql = 'show tables'\n",
    "    tables = get_tables(t_sql)\n",
    "    column_sql = 'show columns from arrivals.amwest_arrivals'\n",
    "    columns = get_columns(column_sql)\n",
    "    a = tbl_columns(columns)\n",
    "    al_data_sql = 'select * from arrivals.alaska_arrivals'\n",
    "    am_data_sql = 'select * from arrivals.amwest_arrivals'\n",
    "    data_al = return_data(al_data_sql)\n",
    "    data_am = return_data(am_data_sql)\n",
    "    comb_data_al = tbl_data(a, data_al)\n",
    "    comb_data_am = tbl_data(a, data_am)\n",
    "    al_max_on, al_min_on, al_max_del, al_min_del = p_df(comb_data_al)\n",
    "    am_max_on, am_min_on, am_max_del, am_min_del = p_df(comb_data_am)\n",
    "    print ('alaska {}'.format(comb_data_al))\n",
    "    print ('most on time: {},'\n",
    "           'least on time: {},'\n",
    "           'most delayed: {},'\n",
    "           'least delayed: {}'.format(al_max_on, al_min_on, al_max_del, al_min_del))\n",
    "    print('amwest {}'.format(comb_data_am))\n",
    "    print('most on time: {},'\n",
    "          'least on time: {},'\n",
    "          'most delayed: {},'\n",
    "          'least delayed: {}'.format(am_max_on, am_min_on, am_max_del, am_min_del))"
   ]
  },
  {
   "cell_type": "markdown",
   "metadata": {
    "collapsed": true
   },
   "source": [
    "we see that alaska airlines flies more to STL where they have the highest number of ontime and delayed arrivals. least number of delayed flights are to PHX. not calculated, but the the least amount of flights are to LAX 111 in total.\n",
    "\n",
    "amwest flies to Phoneix most 5250 total and they have the highest amount of ontime and delayed arrivals. least delays are to STL, but low number of total arrivals. \n",
    "\n",
    "there seems to be a correlation between the airport that the carrier flies to most with the number of ontime and delayed arrivals."
   ]
  }
 ],
 "metadata": {
  "anaconda-cloud": {},
  "kernelspec": {
   "display_name": "Python [default]",
   "language": "python",
   "name": "python3"
  },
  "language_info": {
   "codemirror_mode": {
    "name": "ipython",
    "version": 3
   },
   "file_extension": ".py",
   "mimetype": "text/x-python",
   "name": "python",
   "nbconvert_exporter": "python",
   "pygments_lexer": "ipython3",
   "version": "3.5.2"
  }
 },
 "nbformat": 4,
 "nbformat_minor": 1
}
